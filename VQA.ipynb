{
 "cells": [
  {
   "cell_type": "code",
   "execution_count": 3,
   "id": "42912e3e-544d-4911-a399-3e778f246b7c",
   "metadata": {},
   "outputs": [],
   "source": [
    "from transformers import BlipProcessor, BlipForConditionalGeneration\n",
    "from transformers import BlipProcessor, BlipForQuestionAnswering\n",
    "import torch\n",
    "from PIL import Image\n",
    "import matplotlib.pyplot as plt"
   ]
  },
  {
   "cell_type": "code",
   "execution_count": 4,
   "id": "200f193a-c66d-4782-a4d4-6cbc34e1168e",
   "metadata": {},
   "outputs": [],
   "source": [
    "processor = BlipProcessor.from_pretrained(\"Salesforce/blip-vqa-base\")\n",
    "model = BlipForQuestionAnswering.from_pretrained(\"Salesforce/blip-vqa-base\")"
   ]
  },
  {
   "cell_type": "code",
   "execution_count": 5,
   "id": "ca9c641a-121b-41b9-83d0-ad73c44d3c27",
   "metadata": {},
   "outputs": [
    {
     "name": "stdout",
     "output_type": "stream",
     "text": [
      "Answer: yes\n"
     ]
    }
   ],
   "source": [
    "# cat\n",
    "image_path = \"/home/song/Desktop/BLIP/cat_test.png\"\n",
    "image = Image.open(image_path).convert(\"RGB\")\n",
    "\n",
    "question = \"Is there a cat in the image?\"\n",
    "inputs = processor(image, question, return_tensors=\"pt\")\n",
    "\n",
    "with torch.no_grad():\n",
    "    out = model.generate(**inputs)\n",
    "\n",
    "answer = processor.decode(out[0], skip_special_tokens=True)\n",
    "print(\"Answer:\", answer)"
   ]
  },
  {
   "cell_type": "code",
   "execution_count": 8,
   "id": "6cc81f02-b957-4827-b482-48921489739c",
   "metadata": {},
   "outputs": [
    {
     "name": "stdout",
     "output_type": "stream",
     "text": [
      "Answer: no\n"
     ]
    }
   ],
   "source": [
    "# fight\n",
    "image_path = \"/home/song/Desktop/BLIP/fight.png\"\n",
    "image = Image.open(image_path).convert(\"RGB\")\n",
    "\n",
    "question = \"Are people fighting?\"\n",
    "inputs = processor(image, question, return_tensors=\"pt\")\n",
    "\n",
    "with torch.no_grad():\n",
    "    out = model.generate(**inputs)\n",
    "\n",
    "answer = processor.decode(out[0], skip_special_tokens=True)\n",
    "print(\"Answer:\", answer)"
   ]
  },
  {
   "cell_type": "code",
   "execution_count": 15,
   "id": "5deb07ee-2b91-465a-896f-1819ae8f272e",
   "metadata": {},
   "outputs": [
    {
     "name": "stdout",
     "output_type": "stream",
     "text": [
      "Answer: yes\n"
     ]
    }
   ],
   "source": [
    "# photo\n",
    "image_path = \"/home/song/Desktop/BLIP/photo.png\"\n",
    "image = Image.open(image_path).convert(\"RGB\")\n",
    "\n",
    "question = \"Is the person in the image taking a photo?\"\n",
    "inputs = processor(image, question, return_tensors=\"pt\")\n",
    "\n",
    "with torch.no_grad():\n",
    "    out = model.generate(**inputs)\n",
    "\n",
    "answer = processor.decode(out[0], skip_special_tokens=True)\n",
    "print(\"Answer:\", answer)"
   ]
  },
  {
   "cell_type": "code",
   "execution_count": 18,
   "id": "f47df9f8-a42e-445a-a5fa-e39c99714f44",
   "metadata": {},
   "outputs": [
    {
     "name": "stdout",
     "output_type": "stream",
     "text": [
      "Answer: yes\n"
     ]
    }
   ],
   "source": [
    "# photo\n",
    "image_path = \"/home/song/Desktop/BLIP/fire.png\"\n",
    "image = Image.open(image_path).convert(\"RGB\")\n",
    "\n",
    "question = \"Is there fire within the image?\"\n",
    "inputs = processor(image, question, return_tensors=\"pt\")\n",
    "\n",
    "with torch.no_grad():\n",
    "    out = model.generate(**inputs)\n",
    "\n",
    "answer = processor.decode(out[0], skip_special_tokens=True)\n",
    "print(\"Answer:\", answer)"
   ]
  },
  {
   "cell_type": "code",
   "execution_count": 11,
   "id": "ac2c693f-efc1-4910-b55a-9fec211b0645",
   "metadata": {},
   "outputs": [
    {
     "name": "stdout",
     "output_type": "stream",
     "text": [
      "Answer: yes\n"
     ]
    }
   ],
   "source": [
    "image_path = \"/home/song/Desktop/BLIP/smoke.png\"\n",
    "image = Image.open(image_path).convert(\"RGB\")\n",
    "\n",
    "question = \"Is that person smoking a cigarette now?\"\n",
    "inputs = processor(image, question, return_tensors=\"pt\")\n",
    "\n",
    "with torch.no_grad():\n",
    "    out = model.generate(**inputs)\n",
    "\n",
    "answer = processor.decode(out[0], skip_special_tokens=True)\n",
    "print(\"Answer:\", answer)"
   ]
  },
  {
   "cell_type": "code",
   "execution_count": 16,
   "id": "8abc434a-9b81-47fd-94b4-122eddf175be",
   "metadata": {},
   "outputs": [
    {
     "name": "stdout",
     "output_type": "stream",
     "text": [
      "Answer: yes\n"
     ]
    }
   ],
   "source": [
    "image_path = \"/home/song/Desktop/BLIP/deli.png\"\n",
    "image = Image.open(image_path).convert(\"RGB\")\n",
    "\n",
    "question = \"Is that guy hanging around the fence?\"\n",
    "inputs = processor(image, question, return_tensors=\"pt\")\n",
    "\n",
    "with torch.no_grad():\n",
    "    out = model.generate(**inputs)\n",
    "\n",
    "answer = processor.decode(out[0], skip_special_tokens=True)\n",
    "print(\"Answer:\", answer)"
   ]
  },
  {
   "cell_type": "code",
   "execution_count": 17,
   "id": "c9c182a7-45a2-449f-9053-ac355b3811a6",
   "metadata": {},
   "outputs": [
    {
     "name": "stdout",
     "output_type": "stream",
     "text": [
      "Answer: yes\n"
     ]
    }
   ],
   "source": [
    "image_path = \"/home/song/Desktop/BLIP/deli.png\"\n",
    "image = Image.open(image_path).convert(\"RGB\")\n",
    "\n",
    "question = \"Is that person passing something over the fence?\"\n",
    "inputs = processor(image, question, return_tensors=\"pt\")\n",
    "\n",
    "with torch.no_grad():\n",
    "    out = model.generate(**inputs)\n",
    "\n",
    "answer = processor.decode(out[0], skip_special_tokens=True)\n",
    "print(\"Answer:\", answer)"
   ]
  },
  {
   "cell_type": "code",
   "execution_count": null,
   "id": "07159481-89cb-49c8-ac28-5325dd37583c",
   "metadata": {},
   "outputs": [],
   "source": []
  }
 ],
 "metadata": {
  "kernelspec": {
   "display_name": "Python 3 (ipykernel)",
   "language": "python",
   "name": "python3"
  },
  "language_info": {
   "codemirror_mode": {
    "name": "ipython",
    "version": 3
   },
   "file_extension": ".py",
   "mimetype": "text/x-python",
   "name": "python",
   "nbconvert_exporter": "python",
   "pygments_lexer": "ipython3",
   "version": "3.11.11"
  }
 },
 "nbformat": 4,
 "nbformat_minor": 5
}
